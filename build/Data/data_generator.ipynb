{
 "cells": [
  {
   "cell_type": "code",
   "execution_count": 1,
   "metadata": {},
   "outputs": [],
   "source": [
    "f = open(\"test_data.txt\",'w+')"
   ]
  },
  {
   "cell_type": "code",
   "execution_count": 2,
   "metadata": {},
   "outputs": [
    {
     "name": "stdout",
     "output_type": "stream",
     "text": [
      "Tue Mar  7 16:27:46 2023\n"
     ]
    }
   ],
   "source": [
    "import time\n",
    "time_for_data = time.asctime()\n",
    "print(time_for_data)"
   ]
  },
  {
   "cell_type": "code",
   "execution_count": 3,
   "metadata": {},
   "outputs": [
    {
     "data": {
      "text/plain": [
       "50"
      ]
     },
     "execution_count": 3,
     "metadata": {},
     "output_type": "execute_result"
    }
   ],
   "source": [
    "f.write(f\"This data file is made at{time_for_data}\\n\")"
   ]
  },
  {
   "cell_type": "code",
   "execution_count": 4,
   "metadata": {},
   "outputs": [],
   "source": [
    "data_lines = 3000\n",
    "import random\n",
    "import math\n",
    "for i in range(data_lines):\n",
    "    f.write(f\"NO.{i} {math.sin(i*0.001)*36000},{math.sin(i*0.001)*18000},{random.randint(0,1)},{random.randint(0,1)}\")\n",
    "    # f.write(f\"NO.{i} {36*i},{18*i},{random.randint(0,1)},{random.randint(0,1)}\")\n",
    "    f.write(\"\\n\")"
   ]
  }
 ],
 "metadata": {
  "kernelspec": {
   "display_name": "Python 3",
   "language": "python",
   "name": "python3"
  },
  "language_info": {
   "codemirror_mode": {
    "name": "ipython",
    "version": 3
   },
   "file_extension": ".py",
   "mimetype": "text/x-python",
   "name": "python",
   "nbconvert_exporter": "python",
   "pygments_lexer": "ipython3",
   "version": "3.11.0"
  },
  "orig_nbformat": 4,
  "vscode": {
   "interpreter": {
    "hash": "262d0c9a1b430b45a17fb6bc723f9f5e882c92bb631d8decb602369289da4ece"
   }
  }
 },
 "nbformat": 4,
 "nbformat_minor": 2
}
